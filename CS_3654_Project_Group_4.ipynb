{
 "cells": [
  {
   "cell_type": "markdown",
   "id": "52fde999-87bb-4f2e-94af-50baa42d4043",
   "metadata": {},
   "source": [
    "project1 notebook not working? Created this one in place.\n",
    "Project Title:\n",
    "Team Name: Group 4\n",
    "Team Members:\n",
    "Riley Welford-Small, 906408148\n",
    "XXX\n",
    "XXX\n",
    "XXX\n",
    "XXX\n",
    "XXX"
   ]
  },
  {
   "cell_type": "markdown",
   "id": "1a47d559-210f-4601-a53c-50dc580975d6",
   "metadata": {},
   "source": [
    "Initial Description: NFL???"
   ]
  },
  {
   "cell_type": "markdown",
   "id": "8e4a6d23-1231-4219-bef4-cc902294a6bf",
   "metadata": {},
   "source": [
    "Potential research questions you plan to address: Who will win the superbowl?"
   ]
  },
  {
   "cell_type": "markdown",
   "id": "c9aca961-3685-41ad-8616-7fa3268ba7ed",
   "metadata": {},
   "source": [
    "Description of potential source data that would be relevant (including links or references if possible): Wherever the group data came from"
   ]
  }
 ],
 "metadata": {
  "kernelspec": {
   "display_name": "Python [conda env:base] *",
   "language": "python",
   "name": "conda-base-py"
  },
  "language_info": {
   "codemirror_mode": {
    "name": "ipython",
    "version": 3
   },
   "file_extension": ".py",
   "mimetype": "text/x-python",
   "name": "python",
   "nbconvert_exporter": "python",
   "pygments_lexer": "ipython3",
   "version": "3.13.5"
  }
 },
 "nbformat": 4,
 "nbformat_minor": 5
}
